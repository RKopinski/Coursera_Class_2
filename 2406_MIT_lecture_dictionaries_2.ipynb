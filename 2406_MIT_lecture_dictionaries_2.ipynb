{
  "nbformat": 4,
  "nbformat_minor": 0,
  "metadata": {
    "colab": {
      "provenance": [],
      "authorship_tag": "ABX9TyMLUksYcseCcqR2W0p3pXiu",
      "include_colab_link": true
    },
    "kernelspec": {
      "name": "python3",
      "display_name": "Python 3"
    },
    "language_info": {
      "name": "python"
    }
  },
  "cells": [
    {
      "cell_type": "markdown",
      "metadata": {
        "id": "view-in-github",
        "colab_type": "text"
      },
      "source": [
        "<a href=\"https://colab.research.google.com/github/RKopinski/Coursera_Class_2/blob/main/2406_MIT_lecture_dictionaries_2.ipynb\" target=\"_parent\"><img src=\"https://colab.research.google.com/assets/colab-badge.svg\" alt=\"Open In Colab\"/></a>"
      ]
    },
    {
      "cell_type": "code",
      "source": [
        "#replicating MIT's lecture on \" Lecture 14: Dictionaries \"\n",
        "#https://www.youtube.com/watch?v=lTgLOuaQsvk&list=PLUl4u3cNGP62A-ynp6v6-LGBCzeH3VAQB&index=14\n",
        "#Part 2"
      ],
      "metadata": {
        "id": "RJamw69SpGQU"
      },
      "execution_count": null,
      "outputs": []
    },
    {
      "cell_type": "code",
      "source": [
        "def find_in_L(Ld,k):\n",
        "  # L is a list of dicts, k is an int\n",
        "  # Returns True if k is a key in any dicts of L and False otherwise\n",
        "\n",
        "  d1 = {1:2, 3:4, 5:6}\n",
        "  d2 = {2:4, 4:6}\n",
        "  d3 = {1:1, 3:9, 4:16, 5:25}\n",
        "\n",
        "  print (find_in_L([d1,d2,d3], 2)) #returns True\n",
        "  print (find_in_L([d1,d2,d3], 24)) #returns False"
      ],
      "metadata": {
        "id": "vkFZaEt11jF_"
      },
      "execution_count": null,
      "outputs": []
    }
  ]
}