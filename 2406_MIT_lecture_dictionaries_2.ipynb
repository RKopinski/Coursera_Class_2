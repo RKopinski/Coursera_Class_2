{
  "nbformat": 4,
  "nbformat_minor": 0,
  "metadata": {
    "colab": {
      "provenance": [],
      "history_visible": true,
      "authorship_tag": "ABX9TyPU8J66Z8SmVA1fEs6DIpSX",
      "include_colab_link": true
    },
    "kernelspec": {
      "name": "python3",
      "display_name": "Python 3"
    },
    "language_info": {
      "name": "python"
    }
  },
  "cells": [
    {
      "cell_type": "markdown",
      "metadata": {
        "id": "view-in-github",
        "colab_type": "text"
      },
      "source": [
        "<a href=\"https://colab.research.google.com/github/RKopinski/Coursera_Class_2/blob/main/2406_MIT_lecture_dictionaries_2.ipynb\" target=\"_parent\"><img src=\"https://colab.research.google.com/assets/colab-badge.svg\" alt=\"Open In Colab\"/></a>"
      ]
    },
    {
      "cell_type": "code",
      "source": [
        "#replicating MIT's lecture on \" Lecture 14: Dictionaries \"\n",
        "#https://www.youtube.com/watch?v=lTgLOuaQsvk&list=PLUl4u3cNGP62A-ynp6v6-LGBCzeH3VAQB&index=14\n",
        "#Part 2"
      ],
      "metadata": {
        "id": "RJamw69SpGQU"
      },
      "execution_count": null,
      "outputs": []
    },
    {
      "cell_type": "code",
      "source": [
        "def find_in_L(Ld,k):\n",
        "  # L is a list of dicts, k is an int\n",
        "  # Returns True if k is a key in any dicts of L and False otherwise\n",
        "  for d in Ld:\n",
        "      #d is k1, v1\n",
        "      if k in d:\n",
        "        return True\n",
        "  return False\n",
        "\n",
        "d1 = {1:2, 3:4, 5:6}\n",
        "d2 = {2:4, 4:6}\n",
        "d3 = {1:1, 3:9, 4:16, 5:25}\n",
        "\n",
        "print(find_in_L([d1,d2,d3], 2)) #returns True\n",
        "print(find_in_L([d1,d2,d3], 25)) #returns False"
      ],
      "metadata": {
        "id": "vkFZaEt11jF_",
        "colab": {
          "base_uri": "https://localhost:8080/"
        },
        "outputId": "4a408217-dbee-4129-fc01-ebb763bf567c"
      },
      "execution_count": 54,
      "outputs": [
        {
          "output_type": "stream",
          "name": "stdout",
          "text": [
            "True\n",
            "False\n"
          ]
        }
      ]
    },
    {
      "cell_type": "code",
      "source": [
        "print (d1.items())"
      ],
      "metadata": {
        "colab": {
          "base_uri": "https://localhost:8080/"
        },
        "id": "bj8clvAa44ww",
        "outputId": "1523eaaf-8a18-45b6-ba08-6e8332ad1af8"
      },
      "execution_count": 55,
      "outputs": [
        {
          "output_type": "stream",
          "name": "stdout",
          "text": [
            "dict_items([(1, 2), (3, 4), (5, 6)])\n"
          ]
        }
      ]
    },
    {
      "cell_type": "code",
      "source": [
        "print (d1.keys())\n",
        "print (d1.values())\n"
      ],
      "metadata": {
        "colab": {
          "base_uri": "https://localhost:8080/"
        },
        "id": "P1qaOZXi686O",
        "outputId": "826549e9-41df-4e0b-bd10-09b9486d7efa"
      },
      "execution_count": 56,
      "outputs": [
        {
          "output_type": "stream",
          "name": "stdout",
          "text": [
            "dict_keys([1, 3, 5])\n",
            "dict_values([2, 4, 6])\n"
          ]
        }
      ]
    },
    {
      "cell_type": "code",
      "source": [
        "for k,v in d1.items():\n",
        "  print(f\"key {k} has value {v}\")"
      ],
      "metadata": {
        "colab": {
          "base_uri": "https://localhost:8080/"
        },
        "id": "KLCEpMf17CiX",
        "outputId": "259210ef-6dad-4dae-c731-1dd4957b9d3b"
      },
      "execution_count": 58,
      "outputs": [
        {
          "output_type": "stream",
          "name": "stdout",
          "text": [
            "key 1 has value 2\n",
            "key 3 has value 4\n",
            "key 5 has value 6\n"
          ]
        }
      ]
    },
    {
      "cell_type": "code",
      "source": [],
      "metadata": {
        "id": "7gLUuAi27N4J"
      },
      "execution_count": null,
      "outputs": []
    }
  ]
}