{
  "nbformat": 4,
  "nbformat_minor": 0,
  "metadata": {
    "colab": {
      "provenance": [],
      "authorship_tag": "ABX9TyPrNZAgZlJxyKLRLFuZEcCb",
      "include_colab_link": true
    },
    "kernelspec": {
      "name": "python3",
      "display_name": "Python 3"
    },
    "language_info": {
      "name": "python"
    }
  },
  "cells": [
    {
      "cell_type": "markdown",
      "metadata": {
        "id": "view-in-github",
        "colab_type": "text"
      },
      "source": [
        "<a href=\"https://colab.research.google.com/github/RKopinski/Coursera_Class_2/blob/main/2406_MIT_lecture_dictionaries.ipynb\" target=\"_parent\"><img src=\"https://colab.research.google.com/assets/colab-badge.svg\" alt=\"Open In Colab\"/></a>"
      ]
    },
    {
      "cell_type": "code",
      "source": [
        "#replicating MIT's lecture on \" Lecture 14: Dictionaries \"\n",
        "#https://www.youtube.com/watch?v=lTgLOuaQsvk&list=PLUl4u3cNGP62A-ynp6v6-LGBCzeH3VAQB&index=14"
      ],
      "metadata": {
        "id": "RJamw69SpGQU"
      },
      "execution_count": null,
      "outputs": []
    },
    {
      "cell_type": "code",
      "source": [
        "def find_grades(grades, students):\n",
        "    Lnew = []\n",
        "    for elem in students:\n",
        "        grade = grades[elem]\n",
        "        Lnew.append(grade)\n",
        "    return Lnew\n",
        "\n",
        "d = {'Ana':'B', 'Matt':'C', 'John':'B', 'Katy':'A'}\n",
        "print(find_grades(d, ['Matt', 'Katy']))"
      ],
      "metadata": {
        "id": "88E_jTqU8dAi",
        "colab": {
          "base_uri": "https://localhost:8080/"
        },
        "outputId": "672a397e-819d-4596-9fe2-5fb651d52ce0"
      },
      "execution_count": 3,
      "outputs": [
        {
          "output_type": "stream",
          "name": "stdout",
          "text": [
            "['C', 'A']\n"
          ]
        }
      ]
    },
    {
      "cell_type": "code",
      "source": [],
      "metadata": {
        "id": "3tc_Xu3tpvRQ"
      },
      "execution_count": null,
      "outputs": []
    }
  ]
}