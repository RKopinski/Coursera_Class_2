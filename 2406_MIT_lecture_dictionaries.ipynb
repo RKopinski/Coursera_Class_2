{
  "nbformat": 4,
  "nbformat_minor": 0,
  "metadata": {
    "colab": {
      "provenance": [],
      "authorship_tag": "ABX9TyNWoPuPhhkxb5eniiziciOR",
      "include_colab_link": true
    },
    "kernelspec": {
      "name": "python3",
      "display_name": "Python 3"
    },
    "language_info": {
      "name": "python"
    }
  },
  "cells": [
    {
      "cell_type": "markdown",
      "metadata": {
        "id": "view-in-github",
        "colab_type": "text"
      },
      "source": [
        "<a href=\"https://colab.research.google.com/github/RKopinski/Coursera_Class_2/blob/main/2406_MIT_lecture_dictionaries.ipynb\" target=\"_parent\"><img src=\"https://colab.research.google.com/assets/colab-badge.svg\" alt=\"Open In Colab\"/></a>"
      ]
    },
    {
      "cell_type": "code",
      "source": [
        "#replicating MIT's lecture on \" Lecture 14: Dictionaries \"\n",
        "#https://www.youtube.com/watch?v=lTgLOuaQsvk&list=PLUl4u3cNGP62A-ynp6v6-LGBCzeH3VAQB&index=14"
      ],
      "metadata": {
        "id": "RJamw69SpGQU"
      },
      "execution_count": null,
      "outputs": []
    },
    {
      "cell_type": "code",
      "source": [
        "def find_grades(grades, students):\n",
        "    Lnew = [] #create an empty list, to be populated w/ results and later returned as output\n",
        "    for elem in students:\n",
        "        # elem is 'Ana' or 'Matt', i.e. a student name passed on to the function\n",
        "        grade = grades[elem]\n",
        "        #grade temporary stores the grade identified in dictionary \"grades\" passed on to the function, on index grades[elem]\n",
        "        Lnew.append(grade)\n",
        "    return Lnew\n",
        "\n",
        "d = {'Ana':'B', 'Matt':'C', 'John':'B', 'Katy':'A'}\n",
        "print(find_grades(d, ['Matt', 'Katy']))"
      ],
      "metadata": {
        "id": "88E_jTqU8dAi",
        "colab": {
          "base_uri": "https://localhost:8080/"
        },
        "outputId": "ff8020d6-1b9b-4aec-973d-1c12be496f97"
      },
      "execution_count": 5,
      "outputs": [
        {
          "output_type": "stream",
          "name": "stdout",
          "text": [
            "['C', 'A']\n"
          ]
        }
      ]
    },
    {
      "cell_type": "code",
      "source": [],
      "metadata": {
        "id": "3tc_Xu3tpvRQ"
      },
      "execution_count": null,
      "outputs": []
    }
  ]
}